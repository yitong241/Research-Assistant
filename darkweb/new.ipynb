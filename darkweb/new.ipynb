{
 "cells": [
  {
   "cell_type": "code",
   "execution_count": 4,
   "metadata": {},
   "outputs": [],
   "source": [
    "import sqlite3\n",
    "import pandas as pd\n",
    "\n",
    "conn = sqlite3.connect('./data/mixed_first_marketplace.sqlite3')\n",
    "\n",
    "cursor = conn.cursor()\n",
    "\n",
    "# cursor.execute(\"SELECT feedbacks.order_amount_usd, items.total_sales FROM feedbacks, items WHERE items.hash_str = feedbacks.item_hash\")\n",
    "\n",
    "# for each item with unique item_hash\n",
    "# we have the total_sales\n",
    "# for each feedback, we have the transaction amount\n",
    "# sum all the transaction amount from the feedbacks with the same item_hash\n",
    "# divide the total sales, this should give per-item-price\n",
    "\n",
    "cursor.execute(\"SELECT item_hash, SUM(order_amount_usd) AS total_order_amount \\\n",
    "               FROM feedbacks \\\n",
    "               WHERE (marketplace = 'Agora' OR marketplace = 'Evolution') \\\n",
    "               GROUP BY item_hash\")\n",
    "\n",
    "result = cursor.fetchall()\n",
    "\n",
    "column_names = [description[0] for description in cursor.description]\n",
    "dff = pd.DataFrame(result, columns=column_names)\n",
    "dff.to_csv(\"./data/total_order_amount_by_item.csv\", index=False)\n",
    "\n",
    "cursor.close()\n",
    "conn.close()\n"
   ]
  },
  {
   "cell_type": "code",
   "execution_count": 19,
   "metadata": {},
   "outputs": [
    {
     "name": "stdout",
     "output_type": "stream",
     "text": [
      "Index(['review_id', 'marketplace', 'item_id', 'date', 'sales',\n",
      "       'feedback_value', 'vendor_name', 'author', 'ships_from_coded',\n",
      "       'ships_to', 'category', 'if_drug', 'top_category',\n",
      "       '2nd_level_category'],\n",
      "      dtype='object')\n",
      "       marketplace                           item_id        date   sales  \\\n",
      "0            agora  b03a8d9cfc1f7bf82222149435845a52  2013-12-22   64.06   \n",
      "1            agora  e6a55e17458c00d0c5084855fe99c099  2013-12-22   89.02   \n",
      "2            agora  879c7446c8327f761ad2f2a9e31d3b38  2013-12-23  763.05   \n",
      "3            agora  c000e49b4639d9701759d54c0bb434e5  2013-12-24   67.08   \n",
      "4            agora  e88ff0ac1cf19e7a09d1a8679218e916  2013-12-24  152.61   \n",
      "...            ...                               ...         ...     ...   \n",
      "698513   evolution  e9bdbee66bd141df3762146093970f14  2015-02-19    0.00   \n",
      "698514   evolution  da01cfdd88c4862c3de26563f6c9be2f  2015-02-19    0.00   \n",
      "698515   evolution  ea9c2cc525f7f90c9772d902ca56a18c  2015-02-19    0.00   \n",
      "698516   evolution  be6df89fa774884309df91ca663d44c5  2015-02-19    0.00   \n",
      "698517   evolution  da01cfdd88c4862c3de26563f6c9be2f  2015-02-19    0.00   \n",
      "\n",
      "              vendor_name         author          ships_from_coded ships_to  \\\n",
      "0                 Warbeas  Unknown Giver                       NaN      NaN   \n",
      "1       NarcoticsAnonymou  Unknown Giver  united states of america      USA   \n",
      "2            Green-Machin  Unknown Giver                 worldwide      NaN   \n",
      "3               DeemzBeem  Unknown Giver  united states of america      USA   \n",
      "4               OpenSourc  Unknown Giver  united states of america      USA   \n",
      "...                   ...            ...                       ...      ...   \n",
      "698513           lafloche          m***s                   belgium      NaN   \n",
      "698514        MartyMcHigh          s***n                       NaN      NaN   \n",
      "698515           BULLSEYE          g***3                   germany      NaN   \n",
      "698516         goldcanada          4***b                    canada      NaN   \n",
      "698517        WeedConnect          b***e                       NaN      NaN   \n",
      "\n",
      "            category  if_drug top_category 2nd_level_category  \n",
      "0           cannabis      1.0         drug           cannabis  \n",
      "1         stimulants      1.0         drug         stimulants  \n",
      "2           cannabis      1.0         drug           cannabis  \n",
      "3       psychedelics      1.0         drug       psychedelics  \n",
      "4            opioids      1.0         drug            opioids  \n",
      "...              ...      ...          ...                ...  \n",
      "698513      cannabis      1.0         drug           cannabis  \n",
      "698514           NaN      NaN          NaN                NaN  \n",
      "698515    stimulants      1.0         drug         stimulants  \n",
      "698516      cannabis      1.0         drug           cannabis  \n",
      "698517           NaN      NaN          NaN                NaN  \n",
      "\n",
      "[698518 rows x 12 columns]\n"
     ]
    }
   ],
   "source": [
    "import pandas as pd\n",
    "import csv\n",
    "\n",
    "df = pd.read_csv(\"./data/mixed_first_items_merged.csv\")\n",
    "column_names = df.columns\n",
    "print(column_names)\n",
    "\n",
    "columns_to_keep = ['marketplace', 'item_id', 'date', 'sales', 'vendor_name', 'author', 'ships_from_coded', 'ships_to', 'category', 'if_drug', 'top_category', '2nd_level_category']\n",
    "\n",
    "df = df[columns_to_keep]\n",
    "\n",
    "df = df[df['marketplace'].isin(['agora', 'evolution'])]\n",
    "\n",
    "print(df)\n",
    "\n",
    "df1 = pd.read_csv(\"./data/total_order_amount_by_item.csv\")\n",
    "\n",
    "merged_df = df.merge(df1, left_on='item_id', right_on='item_hash', how='left')\n",
    "\n",
    "# Calculate the 'price' column\n",
    "merged_df['price'] = merged_df['total_order_amount'] / merged_df['sales']\n",
    "\n",
    "merged_df.to_csv(\"./data/new_output.csv\", index=False)\n",
    "\n"
   ]
  },
  {
   "cell_type": "code",
   "execution_count": null,
   "metadata": {},
   "outputs": [],
   "source": [
    "df = pd.read_csv(\"./data/new_output.csv\")\n",
    "\n",
    "agora_df = df[df['marketplace'].isin(['agora'])]\n",
    "evolution_df = df[df['marketplace'].isin(['evolution'])]\n",
    "\n",
    "agora_df.to_csv(\"./data/Agora_new_output.csv\", index=False)\n",
    "evolution_df.to_csv(\"./data/Evolution_new_output.csv\", index=False)"
   ]
  },
  {
   "cell_type": "code",
   "execution_count": 12,
   "metadata": {},
   "outputs": [
    {
     "data": {
      "text/html": [
       "<div>\n",
       "<style scoped>\n",
       "    .dataframe tbody tr th:only-of-type {\n",
       "        vertical-align: middle;\n",
       "    }\n",
       "\n",
       "    .dataframe tbody tr th {\n",
       "        vertical-align: top;\n",
       "    }\n",
       "\n",
       "    .dataframe thead th {\n",
       "        text-align: right;\n",
       "    }\n",
       "</style>\n",
       "<table border=\"1\" class=\"dataframe\">\n",
       "  <thead>\n",
       "    <tr style=\"text-align: right;\">\n",
       "      <th></th>\n",
       "      <th>marketplace</th>\n",
       "      <th>item_id</th>\n",
       "      <th>date</th>\n",
       "      <th>sales</th>\n",
       "      <th>vendor_name</th>\n",
       "      <th>author</th>\n",
       "      <th>ships_from_coded</th>\n",
       "      <th>ships_to</th>\n",
       "      <th>category</th>\n",
       "      <th>if_drug</th>\n",
       "      <th>top_category</th>\n",
       "      <th>2nd_level_category</th>\n",
       "      <th>item_hash</th>\n",
       "      <th>total_order_amount</th>\n",
       "      <th>price</th>\n",
       "    </tr>\n",
       "  </thead>\n",
       "  <tbody>\n",
       "  </tbody>\n",
       "</table>\n",
       "</div>"
      ],
      "text/plain": [
       "Empty DataFrame\n",
       "Columns: [marketplace, item_id, date, sales, vendor_name, author, ships_from_coded, ships_to, category, if_drug, top_category, 2nd_level_category, item_hash, total_order_amount, price]\n",
       "Index: []"
      ]
     },
     "execution_count": 12,
     "metadata": {},
     "output_type": "execute_result"
    }
   ],
   "source": [
    "merged_df"
   ]
  },
  {
   "cell_type": "code",
   "execution_count": null,
   "metadata": {},
   "outputs": [],
   "source": [
    "['marketplace', 'item_id', 'date', 'sales', 'price', 'vendor_name', 'author', \n",
    " 'ships_from_coded', 'ships_to', 'category', 'if_drug', 'top_category', '2nd_level_category']\n",
    "\n",
    "# marketplace -> name of the market\n",
    "# item id -> mixed_first_items_merged.csv : item_id\n",
    "# date -> mixed_first_items_merged.csv : date\n",
    "# sales -> mixed_first_items_merged.csv : sales\n",
    "# price -> sqlite3 : feedbacks : order\n",
    "# vendor_name -> mixed_first_items_merged.csv : \n",
    "# author -> mixed_first_items_merged.csv : \n",
    "# ships_from_coded -> mixed_first_items_merged.csv : \n",
    "# ships_to -> mixed_first_items_merged.csv : \n",
    "# category -> mixed_first_items_merged.csv : \n",
    "# if_drug -> mixed_first_items_merged.csv : \n",
    "# top_category -> mixed_first_items_merged.csv : \n",
    "# 2nd_level_category -> mixed_first_items_merged.csv : "
   ]
  }
 ],
 "metadata": {
  "kernelspec": {
   "display_name": "Python 3",
   "language": "python",
   "name": "python3"
  },
  "language_info": {
   "codemirror_mode": {
    "name": "ipython",
    "version": 3
   },
   "file_extension": ".py",
   "mimetype": "text/x-python",
   "name": "python",
   "nbconvert_exporter": "python",
   "pygments_lexer": "ipython3",
   "version": "3.11.6"
  }
 },
 "nbformat": 4,
 "nbformat_minor": 2
}
