{
 "cells": [
  {
   "cell_type": "code",
   "execution_count": 4,
   "metadata": {},
   "outputs": [],
   "source": [
    "import sqlite3\n",
    "import pandas as pd\n",
    "\n",
    "conn = sqlite3.connect('./data/mixed_first_marketplace.sqlite3')\n",
    "\n",
    "cursor = conn.cursor()\n",
    "\n",
    "# cursor.execute(\"SELECT feedbacks.order_amount_usd, items.total_sales FROM feedbacks, items WHERE items.hash_str = feedbacks.item_hash\")\n",
    "\n",
    "# for each item with unique item_hash\n",
    "# we have the total_sales\n",
    "# for each feedback, we have the transaction amount\n",
    "# sum all the transaction amount from the feedbacks with the same item_hash\n",
    "# divide the total sales, this should give per-item-price\n",
    "\n",
    "cursor.execute(\"SELECT item_hash, SUM(order_amount_usd) AS total_order_amount \\\n",
    "               FROM feedbacks \\\n",
    "               WHERE (marketplace = 'Agora' OR marketplace = 'Evolution') \\\n",
    "               GROUP BY item_hash\")\n",
    "\n",
    "result = cursor.fetchall()\n",
    "\n",
    "column_names = [description[0] for description in cursor.description]\n",
    "dff = pd.DataFrame(result, columns=column_names)\n",
    "dff.to_csv(\"./data/total_order_amount_by_item.csv\", index=False)\n",
    "\n",
    "cursor.close()\n",
    "conn.close()\n"
   ]
  },
  {
   "cell_type": "code",
   "execution_count": 24,
   "metadata": {},
   "outputs": [
    {
     "name": "stdout",
     "output_type": "stream",
     "text": [
      "Index(['review_id', 'marketplace', 'item_id', 'date', 'sales',\n",
      "       'feedback_value', 'vendor_name', 'author', 'ships_from_coded',\n",
      "       'ships_to', 'category', 'if_drug', 'top_category',\n",
      "       '2nd_level_category'],\n",
      "      dtype='object')\n"
     ]
    }
   ],
   "source": [
    "import pandas as pd\n",
    "import csv\n",
    "\n",
    "df = pd.read_csv(\"./data/mixed_first_items_merged.csv\")\n",
    "column_names = df.columns\n",
    "print(column_names)\n",
    "\n",
    "columns_to_keep = ['marketplace', 'item_id', 'date', 'sales', 'vendor_name', 'author', 'ships_from_coded', 'ships_to', 'category', 'if_drug', 'top_category', '2nd_level_category']\n",
    "\n",
    "df = df[columns_to_keep]\n",
    "\n",
    "df = df[df['marketplace'].isin(['agora', 'evolution'])]\n",
    "\n",
    "df1 = pd.read_csv(\"./data/total_order_amount_by_item.csv\")\n",
    "\n",
    "merged_df = df.merge(df1, left_on='item_id', right_on='item_hash', how='left')\n",
    "\n",
    "# Calculate the 'price' column\n",
    "merged_df['price'] = merged_df['total_order_amount'] / merged_df['sales']\n",
    "\n",
    "\n",
    "df2 = pd.read_csv(\"./data/mixed_first_items_2_market.csv\")\n",
    "\n",
    "\n",
    "merged_df = merged_df.merge(df2[['hash_str', 'title']], left_on='item_id', right_on='hash_str', how='left')\n",
    "\n",
    "merged_df.to_csv(\"./data/new_output.csv\", index=False)\n",
    "\n"
   ]
  },
  {
   "cell_type": "code",
   "execution_count": 25,
   "metadata": {},
   "outputs": [],
   "source": [
    "df = pd.read_csv(\"./data/new_output.csv\")\n",
    "\n",
    "agora_df = df[df['marketplace'].isin(['agora'])]\n",
    "evolution_df = df[df['marketplace'].isin(['evolution'])]\n",
    "\n",
    "agora_df.to_csv(\"./data/Agora_new_output.csv\", index=False)\n",
    "evolution_df.to_csv(\"./data/Evolution_new_output.csv\", index=False)"
   ]
  },
  {
   "cell_type": "code",
   "execution_count": null,
   "metadata": {},
   "outputs": [],
   "source": [
    "['marketplace', 'item_id', 'date', 'sales', 'price', 'vendor_name', 'author', \n",
    " 'ships_from_coded', 'ships_to', 'category', 'if_drug', 'top_category', '2nd_level_category']\n",
    "\n",
    "# marketplace -> name of the market\n",
    "# item id -> mixed_first_items_merged.csv : item_id\n",
    "# date -> mixed_first_items_merged.csv : date\n",
    "# sales -> mixed_first_items_merged.csv : sales\n",
    "# price -> sqlite3 : feedbacks : order\n",
    "# vendor_name -> mixed_first_items_merged.csv : \n",
    "# author -> mixed_first_items_merged.csv : \n",
    "# ships_from_coded -> mixed_first_items_merged.csv : \n",
    "# ships_to -> mixed_first_items_merged.csv : \n",
    "# category -> mixed_first_items_merged.csv : \n",
    "# if_drug -> mixed_first_items_merged.csv : \n",
    "# top_category -> mixed_first_items_merged.csv : \n",
    "# 2nd_level_category -> mixed_first_items_merged.csv : "
   ]
  }
 ],
 "metadata": {
  "kernelspec": {
   "display_name": "Python 3",
   "language": "python",
   "name": "python3"
  },
  "language_info": {
   "codemirror_mode": {
    "name": "ipython",
    "version": 3
   },
   "file_extension": ".py",
   "mimetype": "text/x-python",
   "name": "python",
   "nbconvert_exporter": "python",
   "pygments_lexer": "ipython3",
   "version": "3.11.6"
  }
 },
 "nbformat": 4,
 "nbformat_minor": 2
}
