{
 "cells": [
  {
   "cell_type": "code",
   "execution_count": 1,
   "metadata": {},
   "outputs": [],
   "source": [
    "import pandas as pd\n",
    "import csv\n",
    "from tqdm import tqdm"
   ]
  },
  {
   "cell_type": "code",
   "execution_count": 2,
   "metadata": {},
   "outputs": [
    {
     "name": "stdout",
     "output_type": "stream",
     "text": [
      "['amphetamine', 'dl-methamphetamine racemic base', 'd-methamphetamine', 'lisdexamfetamine', 'methylphenidate (dl;d;l;isomers)', 'gamma hydroxybutyric acid(fda approv', 'amobarbital (schedule 2)', 'butalbital', 'pentobarbital (schedule 2)', 'secobarbital (schedule 2)', 'lysergide(d-lsd)', 'tetrahydrocannabinolsynthetic', 'cannabicyclol', 'nabilone', 'mescaline', 'bufotenine', 'psilocybin', 'eticyclidine (pce)', 'phencyclidine (pcp)', 'alphaprodine', 'anileridine', 'cocaine', 'codeine', 'buprenorphine', 'dihydrocodeine', 'oxycodone', 'hydromorphone', 'diphenoxylate', 'hydrocodone', 'hydrocodone', 'heroin', 'levorphanol', 'meperidine (pethidine)', 'methadone', 'morphine', 'normorphine', 'morphine-3-ethereal sulfate', 'opium', 'opium powdered', 'oxymorphone', 'noroxymorphone', 'alfentanil', 'remifentanil', 'sufentanil base', 'carfentanil', 'tapentadol', 'fentanyl base']\n",
      "[['bennies', 'uppers', 'addys', 'amphetamine', 'vyvanse', 'dyanavel', 'mydayis', 'xelstrym', 'black beauties', 'wakey wakey', 'dexedrine', 'adderall', 'evekeo', 'zenzedi', 'hearts', 'adzenys', 'speed', 'methylphenethylamine'], ['meth', 'tweak', 'crystal', 'ice', 'crank', 'chalk', 'shabu', 'yaba', 'crystal meth', 'methamphetamine', 'desoxyn', 'glass', 'dl-methamphetamine racemic base', 'tina', 'shards', 'speed'], ['yaba', 'd-desoxyephedrine', 'zip', 'd-meth', 'christal', 'd-methamphetamine', 'desoxyn', 'fuel', 'd-methedrine'], ['venvanse', 'vyv', 'lisdex', 'vyvanse', 'lisdexamfetamine', 'ldx', 'tyvense', 'elvanse'], ['ritalin. quillivant xr', 'methylphenidate (dl;d;l;isomers)', 'aptensio', 'quillivant', 'jornay pm', 'metadate', 'concerta', 'biphentin', 'ritalin', 'jornay', 'quillichew', 'methylin', 'daytrana', 'methylphenidate', 'cotempla', 'foquest', 'adhansia', 'relexxii', 'aptensio xr'], ['liquid x', 'ghb', 'xywav', 'somatomax', 'grievous bodily harm', 'juice', 'liquid ecstasy', 'georgia home boy', 'fantasy', 'gamma hydroxybutyric acid(fda approv', 'gamma hydroxybutyric acid', 'soap', 'scoop'], ['amobarbital', 'blue devils', 'blue heavens', 'amytal', 'downers', 'amobarbital (schedule 2)'], ['tencon', 'allzital', 'fioricet', 'trianal', 'esgic', 'trianal c', 'bucet', 'butex', 'fioricet with codeine', 'fiorinal', 'bupap', 'ascomp', 'butalbital', 'butapap', 'vanatol s', 'zebutal', 'vtol', 'vanatol', 'axocet', 'orbivan'], ['yellow bullet', 'nembutal sodium', 'nembies', 'pentobarbital (schedule 2)', 'yellow bullets', 'yellow jacket', 'nembutal', 'yellow jackets', 'pentobarbital', 'pentobarb'], ['red devils', 'secobarbital sodium', 'secobarbital (schedule 2)', 'reds', 'seconal sodium', 'red devil', 'secobarbital', 'seconal'], ['lysergide(d-lsd)', 'acid', 'dot', 'tab', 'blotter', 'sunshine', 'trip', 'doses', 'trips', 'd-lsd', 'microdot', 'lysergide', 'boomers', 'boomer', 'blotters', 'hits', 'microdots', 'tabs', 'dose', 'hit', 'dots'], ['k2', 'spice', 'spice gold', 'spice silver', 'sence', 'marinol', 'hu-210', 'algerian blend', 'thc synthetic', 'smoke', 'yucatan fire', 'genie', 'jwh-018', 'nabilone', 'tetrahydrocannabinol synthetic', 'chill x', 'ab-fubinaca', 'spice diamond', 'tetrahydrocannabinolsynthetic', 'synthetic cannabis', 'thc'], ['cannabicycol', 'cbl', 'cannabicyclol'], ['nabilone', 'cesamet'], ['mescaline', 'peyote', 'tmpea', 'cactus', 'cactus buttons', 'trimethoxyphenethylamine', 'mesc', 'buttons', 'moon'], ['n-dimethyltryptamine', 'river toad', '5-ho-dmt', 'colorado river toad venom', 'bufotenina', 'venom', 'bufotenin', 'bufotenine', '5-hydroxy-n'], ['psilocybin', 'shrooms', 'psychedelic fungi', 'sacred mushrooms', 'blue meanies', 'boomers', 'mushies', 'boomer', 'psilo', 'mushroom soup', 'purple passion', 'cubes', 'fungus amongus', 'zoomers', 'magic mushrooms', 'psychedelic mushrooms', 'little smoke', 'simple simon'], ['eticyclidine (pce)', 'eticyclidina', 'cyclohexamine', 'eticyclidine', 'tenocyclidine', 'pce', 'eticyclidin'], ['killer weed', 'peace pill', 'super grass', 'wack', 'sherm', 'killer', 'phencyclidine (pcp)', 'embalming fluid', 'phencyclidine', 'angel dust', 'love boat', 'embalming', 'fuel', 'pcp', 'rocket fuel', 'ozone', 'hog', 'killer joint'], ['nisentil', 'alphaprodine', 'propanoate'], ['leritine', 'anileridine'], ['snow', 'blow', 'sneeze', 'goprelto', 'coke', 'numbrino', 'charlie', 'powder', 'rock', 'line', 'cocaine', 'dust', 'flake', 'lines', 'white', 'crack', 'yayo', 'nose candy'], ['codar gf', 'tylenol with codeine', 'linctus codeine blanc', 'robaxisal', 'ninjacof xg', 'mar-cof cg', 'covan', 'trianal c', 'tuxarin', 'purple drank', 'codar ar', 'pseudodine c', 'cody', 'fioricet with codeine', 'lean', 'tusnel c', 'triatec-8', 'm-end pe', 'mersyndol', 'codeine', 'sizzurp', 'codar d', 'triatec-30', 'm-clear wc', 'ascomp', 'cheratussin', 'triacin-c', 'triatec', 'codeine contin', 'cheratussin dac', 'robitussin ac', 'tuzistra', 'histex ac', 'cough syrup', 'damylin with codeine', 'mar-cof bp', 'robaxacet-8'], ['butrans', 'buprenorphine', 'zubsolv', 'buprenex', 'bupe', 'temgesic', 'bup', 'belbuca', 'subutex', 'suboxone', 'sublocade', 'brixadi'], ['paracodin', 'synalgos-dc', 'dvorah', 'trezix', 'dihydrocodeine', 'drocode', 'dhc'], ['xtampza', 'targin', 'oxycontin', 'oxyir', 'endodan reformulated may 2009', 'percocet', 'hillbilly heroin', 'oxecta', 'roxybond', 'oxy.ir', 'oxaydo', 'nalocet', 'percodan', 'roxicet', 'endocet', 'prolate', 'oxyneo', 'oxycodone', 'rivacocet', 'xolox', 'roxicodone', 'targiniq'], ['hydromorphone', 'hydromorph contin', 'hydromorphone hp forte', 'dilaudid', 'exalgo'], ['diphenoxylate', 'lomotil'], ['tussionex', 'obredon', 'zydone', 'norco', 'xodol', 'lortab', 'zohydro', 'tussicaps', 'vicodin', 'hycet', 'dalmacol', 'lorcet', 'vicoprofen', 'zamicet', 'hydrocodone', 'hycodan', 'hysingla', 'reprexain', 'hydromet'], ['tussionex', 'obredon', 'zydone', 'norco', 'xodol', 'lortab', 'zohydro', 'tussicaps', 'vicodin', 'hycet', 'dalmacol', 'lorcet', 'vicoprofen', 'zamicet', 'hydrocodone', 'hycodan', 'hysingla', 'reprexain', 'hydromet'], ['brown', 'china white', 'skag', 'junk', 'dope', 'horse', 'black tar', 'scag', 'heroin', 'smack'], ['domoran', 'levorphanol', 'levo-dromoran', 'levo dromoran'], ['demerol', 'meperidine (pethidine)', 'meperidine', 'pethidine'], ['amidone', 'metadol-d', 'dolophine', 'methadone', 'metadol', 'methadose', 'diskets', 'hci'], ['m-eslon', 'doloral', 'statex', 'msir', 'morphabond', 'duramorph', 'mitigo', 'embeda', 'infumorph', 'arymo', 'kadian', 'm-ediat', 'avinza', 'roxanol', 'ms contin', 'morphine'], ['morphine', 'normorphine'], ['morphine-3-ethereal sulfate'], ['toys', 'aunti', 'pen yan', 'dopium', 'chandoo', 'toxy', 'ah-pen-yen', 'chinese molasses', 'midnight oil', 'pox', 'godï¿½s medicine', 'opium', 'gee', 'gondola', 'ope', \"god's medicine\", 'fi-do-nie', 'mira', 'tar', 'joy plant', 'pin gon', 'aunti emma', 'black pill', 'when-shee', 'o.p.', 'ze', \"dover's powder\", 'goric', 'hop/hops', 'dreams', 'chinese tobacco', 'guma', 'zero', 'chandu', 'great tobacco', 'poppy', 'easing powder', 'dream gun', 'dream stick', 'skee', 'big o'], ['toys', 'aunti', 'pen yan', 'dopium', 'chandoo', 'toxy', 'ah-pen-yen', 'chinese molasses', 'midnight oil', 'pox', 'godï¿½s medicine', 'gee', 'gondola', 'ope', \"god's medicine\", 'fi-do-nie', 'mira', 'tar', 'joy plant', 'pin gon', 'aunti emma', 'black pill', 'when-shee', 'o.p.', 'opium powdered', 'ze', \"dover's powder\", 'goric', 'hop/hops', 'dreams', 'chinese tobacco', 'guma', 'zero', 'chandu', 'great tobacco', 'poppy', 'easing powder', 'dream gun', 'dream stick', 'skee', 'big o'], ['octagons', 'mrs. o', 'pink heaven', 'blue heaven', 'numorphan', 'oranges', 'o bomb', 'orgasna ir', 'opana', 'pink o', 'om', 'pink lady', 'new blues', 'oxymorphone', 'stop signs', 'pink', 'blues'], ['noroxymorphone'], ['alfentanil', 'alfenta'], ['remifentanil', 'ultiva'], ['sufentanil', 'dsuvia', 'sufenta', 'sufentanil base'], ['drop dead', 'china girl', 'gray death', 'carfentanil', 'wildnil'], ['nucynta', 'tapentadol', 'nucynta er'], ['dance fever', 'effentora', 'china white', 'fentanyl base', 'lazanda', 'sublimaze', 'abstral', 'duragesic', 'fentora', 'instanyl', 'subsys', 'tango', 'apache', 'actiq', 'murder']]\n",
      "['1100', '1105', '1105', '1205', '1724', '2012', '2125', '2165', '2270', '2315', '7315', '7370', '7377', '7379', '7381', '7433', '7437', '7455', '7471', '9010', '9020', '9041', '9050', '9064', '9120', '9143', '9150', '9170', '9193', '9193', '9200', '9220', '9230', '9250', '9300', '9313', '9336', '9600', '9639', '9652', '9668', '9737', '9739', '9740', '9743', '9780', '9801']\n",
      "[('amphetamine', ['bennies', 'uppers', 'addys', 'amphetamine', 'vyvanse', 'dyanavel', 'mydayis', 'xelstrym', 'black beauties', 'wakey wakey', 'dexedrine', 'adderall', 'evekeo', 'zenzedi', 'hearts', 'adzenys', 'speed', 'methylphenethylamine']), ('dl-methamphetamine racemic base', ['meth', 'tweak', 'crystal', 'ice', 'crank', 'chalk', 'shabu', 'yaba', 'crystal meth', 'methamphetamine', 'desoxyn', 'glass', 'dl-methamphetamine racemic base', 'tina', 'shards', 'speed']), ('d-methamphetamine', ['yaba', 'd-desoxyephedrine', 'zip', 'd-meth', 'christal', 'd-methamphetamine', 'desoxyn', 'fuel', 'd-methedrine']), ('lisdexamfetamine', ['venvanse', 'vyv', 'lisdex', 'vyvanse', 'lisdexamfetamine', 'ldx', 'tyvense', 'elvanse']), ('methylphenidate (dl;d;l;isomers)', ['ritalin. quillivant xr', 'methylphenidate (dl;d;l;isomers)', 'aptensio', 'quillivant', 'jornay pm', 'metadate', 'concerta', 'biphentin', 'ritalin', 'jornay', 'quillichew', 'methylin', 'daytrana', 'methylphenidate', 'cotempla', 'foquest', 'adhansia', 'relexxii', 'aptensio xr']), ('gamma hydroxybutyric acid(fda approv', ['liquid x', 'ghb', 'xywav', 'somatomax', 'grievous bodily harm', 'juice', 'liquid ecstasy', 'georgia home boy', 'fantasy', 'gamma hydroxybutyric acid(fda approv', 'gamma hydroxybutyric acid', 'soap', 'scoop']), ('amobarbital (schedule 2)', ['amobarbital', 'blue devils', 'blue heavens', 'amytal', 'downers', 'amobarbital (schedule 2)']), ('butalbital', ['tencon', 'allzital', 'fioricet', 'trianal', 'esgic', 'trianal c', 'bucet', 'butex', 'fioricet with codeine', 'fiorinal', 'bupap', 'ascomp', 'butalbital', 'butapap', 'vanatol s', 'zebutal', 'vtol', 'vanatol', 'axocet', 'orbivan']), ('pentobarbital (schedule 2)', ['yellow bullet', 'nembutal sodium', 'nembies', 'pentobarbital (schedule 2)', 'yellow bullets', 'yellow jacket', 'nembutal', 'yellow jackets', 'pentobarbital', 'pentobarb']), ('secobarbital (schedule 2)', ['red devils', 'secobarbital sodium', 'secobarbital (schedule 2)', 'reds', 'seconal sodium', 'red devil', 'secobarbital', 'seconal']), ('lysergide(d-lsd)', ['lysergide(d-lsd)', 'acid', 'dot', 'tab', 'blotter', 'sunshine', 'trip', 'doses', 'trips', 'd-lsd', 'microdot', 'lysergide', 'boomers', 'boomer', 'blotters', 'hits', 'microdots', 'tabs', 'dose', 'hit', 'dots']), ('tetrahydrocannabinolsynthetic', ['k2', 'spice', 'spice gold', 'spice silver', 'sence', 'marinol', 'hu-210', 'algerian blend', 'thc synthetic', 'smoke', 'yucatan fire', 'genie', 'jwh-018', 'nabilone', 'tetrahydrocannabinol synthetic', 'chill x', 'ab-fubinaca', 'spice diamond', 'tetrahydrocannabinolsynthetic', 'synthetic cannabis', 'thc']), ('cannabicyclol', ['cannabicycol', 'cbl', 'cannabicyclol']), ('nabilone', ['nabilone', 'cesamet']), ('mescaline', ['mescaline', 'peyote', 'tmpea', 'cactus', 'cactus buttons', 'trimethoxyphenethylamine', 'mesc', 'buttons', 'moon']), ('bufotenine', ['n-dimethyltryptamine', 'river toad', '5-ho-dmt', 'colorado river toad venom', 'bufotenina', 'venom', 'bufotenin', 'bufotenine', '5-hydroxy-n']), ('psilocybin', ['psilocybin', 'shrooms', 'psychedelic fungi', 'sacred mushrooms', 'blue meanies', 'boomers', 'mushies', 'boomer', 'psilo', 'mushroom soup', 'purple passion', 'cubes', 'fungus amongus', 'zoomers', 'magic mushrooms', 'psychedelic mushrooms', 'little smoke', 'simple simon']), ('eticyclidine (pce)', ['eticyclidine (pce)', 'eticyclidina', 'cyclohexamine', 'eticyclidine', 'tenocyclidine', 'pce', 'eticyclidin']), ('phencyclidine (pcp)', ['killer weed', 'peace pill', 'super grass', 'wack', 'sherm', 'killer', 'phencyclidine (pcp)', 'embalming fluid', 'phencyclidine', 'angel dust', 'love boat', 'embalming', 'fuel', 'pcp', 'rocket fuel', 'ozone', 'hog', 'killer joint']), ('alphaprodine', ['nisentil', 'alphaprodine', 'propanoate']), ('anileridine', ['leritine', 'anileridine']), ('cocaine', ['snow', 'blow', 'sneeze', 'goprelto', 'coke', 'numbrino', 'charlie', 'powder', 'rock', 'line', 'cocaine', 'dust', 'flake', 'lines', 'white', 'crack', 'yayo', 'nose candy']), ('codeine', ['codar gf', 'tylenol with codeine', 'linctus codeine blanc', 'robaxisal', 'ninjacof xg', 'mar-cof cg', 'covan', 'trianal c', 'tuxarin', 'purple drank', 'codar ar', 'pseudodine c', 'cody', 'fioricet with codeine', 'lean', 'tusnel c', 'triatec-8', 'm-end pe', 'mersyndol', 'codeine', 'sizzurp', 'codar d', 'triatec-30', 'm-clear wc', 'ascomp', 'cheratussin', 'triacin-c', 'triatec', 'codeine contin', 'cheratussin dac', 'robitussin ac', 'tuzistra', 'histex ac', 'cough syrup', 'damylin with codeine', 'mar-cof bp', 'robaxacet-8']), ('buprenorphine', ['butrans', 'buprenorphine', 'zubsolv', 'buprenex', 'bupe', 'temgesic', 'bup', 'belbuca', 'subutex', 'suboxone', 'sublocade', 'brixadi']), ('dihydrocodeine', ['paracodin', 'synalgos-dc', 'dvorah', 'trezix', 'dihydrocodeine', 'drocode', 'dhc']), ('oxycodone', ['xtampza', 'targin', 'oxycontin', 'oxyir', 'endodan reformulated may 2009', 'percocet', 'hillbilly heroin', 'oxecta', 'roxybond', 'oxy.ir', 'oxaydo', 'nalocet', 'percodan', 'roxicet', 'endocet', 'prolate', 'oxyneo', 'oxycodone', 'rivacocet', 'xolox', 'roxicodone', 'targiniq']), ('hydromorphone', ['hydromorphone', 'hydromorph contin', 'hydromorphone hp forte', 'dilaudid', 'exalgo']), ('diphenoxylate', ['diphenoxylate', 'lomotil']), ('hydrocodone', ['tussionex', 'obredon', 'zydone', 'norco', 'xodol', 'lortab', 'zohydro', 'tussicaps', 'vicodin', 'hycet', 'dalmacol', 'lorcet', 'vicoprofen', 'zamicet', 'hydrocodone', 'hycodan', 'hysingla', 'reprexain', 'hydromet']), ('hydrocodone', ['tussionex', 'obredon', 'zydone', 'norco', 'xodol', 'lortab', 'zohydro', 'tussicaps', 'vicodin', 'hycet', 'dalmacol', 'lorcet', 'vicoprofen', 'zamicet', 'hydrocodone', 'hycodan', 'hysingla', 'reprexain', 'hydromet']), ('heroin', ['brown', 'china white', 'skag', 'junk', 'dope', 'horse', 'black tar', 'scag', 'heroin', 'smack']), ('levorphanol', ['domoran', 'levorphanol', 'levo-dromoran', 'levo dromoran']), ('meperidine (pethidine)', ['demerol', 'meperidine (pethidine)', 'meperidine', 'pethidine']), ('methadone', ['amidone', 'metadol-d', 'dolophine', 'methadone', 'metadol', 'methadose', 'diskets', 'hci']), ('morphine', ['m-eslon', 'doloral', 'statex', 'msir', 'morphabond', 'duramorph', 'mitigo', 'embeda', 'infumorph', 'arymo', 'kadian', 'm-ediat', 'avinza', 'roxanol', 'ms contin', 'morphine']), ('normorphine', ['morphine', 'normorphine']), ('morphine-3-ethereal sulfate', ['morphine-3-ethereal sulfate']), ('opium', ['toys', 'aunti', 'pen yan', 'dopium', 'chandoo', 'toxy', 'ah-pen-yen', 'chinese molasses', 'midnight oil', 'pox', 'godï¿½s medicine', 'opium', 'gee', 'gondola', 'ope', \"god's medicine\", 'fi-do-nie', 'mira', 'tar', 'joy plant', 'pin gon', 'aunti emma', 'black pill', 'when-shee', 'o.p.', 'ze', \"dover's powder\", 'goric', 'hop/hops', 'dreams', 'chinese tobacco', 'guma', 'zero', 'chandu', 'great tobacco', 'poppy', 'easing powder', 'dream gun', 'dream stick', 'skee', 'big o']), ('opium powdered', ['toys', 'aunti', 'pen yan', 'dopium', 'chandoo', 'toxy', 'ah-pen-yen', 'chinese molasses', 'midnight oil', 'pox', 'godï¿½s medicine', 'gee', 'gondola', 'ope', \"god's medicine\", 'fi-do-nie', 'mira', 'tar', 'joy plant', 'pin gon', 'aunti emma', 'black pill', 'when-shee', 'o.p.', 'opium powdered', 'ze', \"dover's powder\", 'goric', 'hop/hops', 'dreams', 'chinese tobacco', 'guma', 'zero', 'chandu', 'great tobacco', 'poppy', 'easing powder', 'dream gun', 'dream stick', 'skee', 'big o']), ('oxymorphone', ['octagons', 'mrs. o', 'pink heaven', 'blue heaven', 'numorphan', 'oranges', 'o bomb', 'orgasna ir', 'opana', 'pink o', 'om', 'pink lady', 'new blues', 'oxymorphone', 'stop signs', 'pink', 'blues']), ('noroxymorphone', ['noroxymorphone']), ('alfentanil', ['alfentanil', 'alfenta']), ('remifentanil', ['remifentanil', 'ultiva']), ('sufentanil base', ['sufentanil', 'dsuvia', 'sufenta', 'sufentanil base']), ('carfentanil', ['drop dead', 'china girl', 'gray death', 'carfentanil', 'wildnil']), ('tapentadol', ['nucynta', 'tapentadol', 'nucynta er']), ('fentanyl base', ['dance fever', 'effentora', 'china white', 'fentanyl base', 'lazanda', 'sublimaze', 'abstral', 'duragesic', 'fentora', 'instanyl', 'subsys', 'tango', 'apache', 'actiq', 'murder'])]\n"
     ]
    }
   ],
   "source": [
    "drug_list = []\n",
    "alt_list = []\n",
    "code_list = []\n",
    "drug_alternative_names = []\n",
    "\n",
    "with open('drug_list_updated_v2.csv', 'r', encoding='latin-1') as csv_file:\n",
    "    csv_reader = csv.DictReader(csv_file)\n",
    "    for row in csv_reader:\n",
    "        code_list.append(row['drug'].split(':')[1].strip()[:4])\n",
    "        name = row['drug'].split(':')[2].strip().lower()\n",
    "        drug_list.append(name)\n",
    "        temp = row['alt'].lower().split(\", \")\n",
    "        # if name not in temp:\n",
    "        temp.append(name)\n",
    "        temp = list(set(temp))\n",
    "        alt_list.append(temp)\n",
    "\n",
    "for i in range(len(drug_list)):\n",
    "    temp = (drug_list[i], alt_list[i])\n",
    "    drug_alternative_names.append(temp)\n",
    "    \n",
    "print(drug_list)\n",
    "print(alt_list)\n",
    "print(code_list)\n",
    "print(drug_alternative_names)\n"
   ]
  },
  {
   "cell_type": "code",
   "execution_count": null,
   "metadata": {},
   "outputs": [],
   "source": [
    "df = pd.read_csv(\"mixed_first_items.csv\", quoting=csv.QUOTE_NONE, encoding='utf-8', on_bad_lines=\"skip\", sep=\"|\", low_memory=False)\n",
    "\n",
    "# Get the column names\n",
    "column_names = df.columns.tolist()\n",
    "\n",
    "# Print the column names\n",
    "print(\"Column names:\", column_names)\n",
    "print(df.shape)\n"
   ]
  },
  {
   "cell_type": "code",
   "execution_count": null,
   "metadata": {},
   "outputs": [],
   "source": [
    "print(df.shape)"
   ]
  },
  {
   "cell_type": "code",
   "execution_count": null,
   "metadata": {},
   "outputs": [],
   "source": [
    "# target_shops = [\"Agora\", \"Evolution\"]\n",
    "\n",
    "# filtered_df = df[df['marketplace'].isin(target_shops)]\n",
    "\n",
    "# # Save the filtered DataFrame to a new CSV file or modify the existing one\n",
    "# filtered_df.to_csv(\"mixed_first_items_2_market.csv\", index=False)"
   ]
  },
  {
   "cell_type": "code",
   "execution_count": 13,
   "metadata": {},
   "outputs": [
    {
     "name": "stdout",
     "output_type": "stream",
     "text": [
      "(62119, 15)\n"
     ]
    }
   ],
   "source": [
    "df = pd.read_csv(\"mixed_first_items_2_market.csv\")\n",
    "print(df.shape)"
   ]
  },
  {
   "cell_type": "code",
   "execution_count": 4,
   "metadata": {},
   "outputs": [
    {
     "name": "stderr",
     "output_type": "stream",
     "text": [
      "100%|██████████| 62119/62119 [00:02<00:00, 28760.68it/s]"
     ]
    },
    {
     "name": "stdout",
     "output_type": "stream",
     "text": [
      "\n",
      "Total matched rows: 6543\n"
     ]
    },
    {
     "name": "stderr",
     "output_type": "stream",
     "text": [
      "\n"
     ]
    }
   ],
   "source": [
    "# check whether orignial drug name appears\n",
    "matched_count = 0\n",
    "\n",
    "# Select the desired columns\n",
    "selected_columns = [\"title\", \"description\", \"prediction\"]\n",
    "desired_data = df[selected_columns]\n",
    "\n",
    "# Print the extracted data\n",
    "# print(desired_data)\n",
    "\n",
    "# Iterate through each row and check for matches\n",
    "with tqdm(total=df.shape[0]) as pbar:  \n",
    "    for index, row in df.iterrows():\n",
    "        title = str(row[\"title\"]).lower()\n",
    "        description = str(row[\"description\"]).lower()\n",
    "        prediction = str(row[\"prediction\"]).lower()\n",
    "        \n",
    "        # Check if any drug name is present in the columns\n",
    "        if any(drug_name.lower() in title or drug_name.lower() in description or drug_name.lower() in prediction for drug_name in drug_list):\n",
    "            df.at[index, \"matched_drug\"] = \";\".join([d for d in drug_list if (d in title) or (d in description) or (d in prediction)])\n",
    "            matched_count += 1\n",
    "        pbar.update(1)\n",
    "\n",
    "# Print the resulting DataFrame and matched count\n",
    "# print(\"DataFrame with matched drugs:\")\n",
    "# print(df)\n",
    "\n",
    "print(\"\\nTotal matched rows:\", matched_count)\n",
    "\n",
    "# total 990000 rows"
   ]
  },
  {
   "cell_type": "code",
   "execution_count": 18,
   "metadata": {},
   "outputs": [
    {
     "name": "stderr",
     "output_type": "stream",
     "text": [
      "100%|██████████| 62119/62119 [00:15<00:00, 4107.58it/s]\n"
     ]
    },
    {
     "name": "stdout",
     "output_type": "stream",
     "text": [
      "Number of matched rows: 45795\n"
     ]
    }
   ],
   "source": [
    "# # check whether any alt name appears\n",
    "\n",
    "\n",
    "matched_count = 0\n",
    "\n",
    "# Iterate through each row in the DataFrame\n",
    "with tqdm(total=df.shape[0]) as pbar: \n",
    "    for index, row in df.iterrows():\n",
    "\n",
    "        title = str(row[\"title\"]).lower()\n",
    "        description = str(row[\"description\"]).lower()\n",
    "        prediction = str(row[\"prediction\"]).lower()\n",
    "        \n",
    "        # Check if any alternative drug name appears in title or description\n",
    "        match_list = []\n",
    "        for drug_name, alt_names in drug_alternative_names:\n",
    "            drug_name = drug_name.lower()\n",
    "            for alt_name in alt_names:\n",
    "                alt_name = alt_name.lower()\n",
    "                if alt_name in title or alt_name in description or alt_name in prediction:\n",
    "                    match_list.append(drug_name)\n",
    "        if len(match_list) == 0:\n",
    "            # print(prediction)\n",
    "            if prediction == \"cannabis\":\n",
    "                match_list.extend(['tetrahydrocannabinolsynthetic', 'cannabicyclol', 'nabilone'])\n",
    "            if prediction == \"stimulants\":\n",
    "                match_list.extend(['Amphetamine', 'dl-methamphetamine racemic base', 'd-methamphetamine', 'lisdexamfetamine', 'methylphenidate (dl;d;l;isomers)'])\n",
    "            if prediction == \"psychedelics\":\n",
    "                match_list.extend(['lysergide(d-lsd)', 'mescaline', 'bufotenine', 'eticyclidine (pce)', 'phencyclidine (pcp)'])\n",
    "            # if prediction == \"miscellaneous\":\n",
    "            #     ['gamma hydroxybutyric acid(fda approv', 'pentobarbital (schedule 2)',  'butalbital', 'amobarbital (schedule 2)', 'secobarbital (schedule 2)', 'alphaprodine', 'anileridine']\n",
    "            if prediction == \"dissociatives\":\n",
    "                match_list.extend(['lysergide(d-lsd)', 'eticyclidine (pce)', 'phencyclidine (pcp)'])\n",
    "        match_list = list(set(match_list))\n",
    "        if len(match_list) > 0:\n",
    "            df.at[index, \"matched_drug\"] = \", \".join(match_list)\n",
    "            matched_count += 1\n",
    "\n",
    "        pbar.update(1)\n",
    "\n",
    "# Print the number of matched rows\n",
    "print(\"Number of matched rows:\", matched_count)\n",
    "\n",
    "df.to_csv(\"outputt.csv\", index=False)\n"
   ]
  },
  {
   "cell_type": "code",
   "execution_count": 19,
   "metadata": {},
   "outputs": [
    {
     "name": "stdout",
     "output_type": "stream",
     "text": [
      "marketplace\n",
      "Agora        0.774922\n",
      "Evolution    0.706855\n",
      "dtype: float64\n"
     ]
    }
   ],
   "source": [
    "import pandas as pd\n",
    "\n",
    "# Read the CSV file into a DataFrame\n",
    "df = pd.read_csv(\"outputt.csv\")\n",
    "\n",
    "# Group the DataFrame by the \"marketplace\" column and count the non-empty \"matched_drug\" entries\n",
    "marketplace_counts = df.groupby(\"marketplace\")[\"matched_drug\"].count()\n",
    "\n",
    "# Calculate the total number of rows in each marketplace\n",
    "marketplace_totals = df.groupby(\"marketplace\")[\"marketplace\"].count()\n",
    "\n",
    "# Calculate the ratio of non-empty \"matched_drug\" entries to the total rows for each marketplace\n",
    "ratios = marketplace_counts / marketplace_totals\n",
    "\n",
    "# Sort the ratios in descending order\n",
    "sorted_ratios = ratios.sort_values(ascending=False)\n",
    "\n",
    "# Display the sorted ratios\n",
    "print(sorted_ratios)\n"
   ]
  },
  {
   "cell_type": "code",
   "execution_count": null,
   "metadata": {},
   "outputs": [],
   "source": [
    "import csv\n",
    "\n",
    "# Step 1: Read the CSV file\n",
    "filename = \"outputt.csv\"\n",
    "\n",
    "# Initialize dictionaries to store counts\n",
    "marketplace_counts = {}\n",
    "matched_drug_counts = {}\n",
    "\n",
    "with open(filename, 'r') as csvfile:\n",
    "    reader = csv.DictReader(csvfile)\n",
    "\n",
    "    for row in reader:\n",
    "        # Get the marketplace name and matched_drug value\n",
    "        marketplace = row[\"marketplace\"]\n",
    "        matched_drug = row[\"matched_drug\"]\n",
    "\n",
    "        # If the marketplace is not already in the dictionaries, initialize it with zero counts\n",
    "        if marketplace not in marketplace_counts:\n",
    "            marketplace_counts[marketplace] = 0\n",
    "            matched_drug_counts[marketplace] = 0\n",
    "\n",
    "        # Increase the count for the marketplace\n",
    "        marketplace_counts[marketplace] += 1\n",
    "\n",
    "        # If matched_drug is not empty, increase the count\n",
    "        if matched_drug:\n",
    "            matched_drug_counts[marketplace] += 1\n",
    "\n",
    "# Step 3: Compute the ratio for each marketplace\n",
    "ratios = {}\n",
    "for marketplace in marketplace_counts:\n",
    "    ratios[marketplace] = matched_drug_counts[marketplace] / marketplace_counts[marketplace]\n",
    "\n",
    "# Step 4: Sort the ratios from high to low\n",
    "sorted_ratios = dict(sorted(ratios.items(), key=lambda item: item[1], reverse=True))\n",
    "\n",
    "# Print the sorted results\n",
    "for marketplace, ratio in sorted_ratios.items():\n",
    "    print(f\"Marketplace: {marketplace}: {ratio:.4f}\")\n"
   ]
  },
  {
   "cell_type": "code",
   "execution_count": null,
   "metadata": {},
   "outputs": [],
   "source": [
    "import csv\n",
    "\n",
    "# Replace 'input.csv' with your actual CSV file name\n",
    "csv_file_path = 'output.csv'\n",
    "\n",
    "# Open the CSV file\n",
    "with open(csv_file_path, 'r') as csv_file:\n",
    "    csv_reader = csv.DictReader(csv_file)\n",
    "    \n",
    "    # Print rows where the \"matched_drug\" column is not empty\n",
    "    for row in csv_reader:\n",
    "        print(row)"
   ]
  }
 ],
 "metadata": {
  "kernelspec": {
   "display_name": "Python 3",
   "language": "python",
   "name": "python3"
  },
  "language_info": {
   "codemirror_mode": {
    "name": "ipython",
    "version": 3
   },
   "file_extension": ".py",
   "mimetype": "text/x-python",
   "name": "python",
   "nbconvert_exporter": "python",
   "pygments_lexer": "ipython3",
   "version": "3.9.1"
  },
  "orig_nbformat": 4
 },
 "nbformat": 4,
 "nbformat_minor": 2
}
