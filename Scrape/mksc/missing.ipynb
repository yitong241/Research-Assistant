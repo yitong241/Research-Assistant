{
 "cells": [
  {
   "cell_type": "code",
   "execution_count": 5,
   "metadata": {},
   "outputs": [],
   "source": [
    "import pandas as pd\n",
    "\n",
    "# Load the CSV file\n",
    "df = pd.read_csv('MS_data.csv')\n",
    "\n",
    "# Convert the 'PDF' column from float to int\n",
    "# It's a good practice to handle missing values or NaNs before conversion\n",
    "# For simplicity, we'll fill NaNs with 0 and then convert to int\n",
    "df['PDF Name'] = df['PDF Name'].fillna(0).astype(int)\n",
    "\n",
    "# Save the modified DataFrame back to a CSV file\n",
    "df.to_csv('your_modified_file.csv', index=False)\n"
   ]
  },
  {
   "cell_type": "code",
   "execution_count": 6,
   "metadata": {},
   "outputs": [
    {
     "name": "stdout",
     "output_type": "stream",
     "text": [
      "89\n",
      "PDF names from CSV not found in subfolder: {'174253185.pdf', '154139933.pdf', '7124566.pdf', '142086102.pdf', '7098808.pdf', '175542994.pdf', '158084057.pdf', '169769592.pdf', '138055251.pdf', '4730984.pdf', '7097855.pdf', '157053255.pdf', '169769593.pdf', '25604546.pdf', '160887233.pdf', '139073273.pdf', '25602209.pdf', '139509318.pdf', '147383390.pdf', '173037863.pdf', '18011401.pdf', '143676019.pdf', '25517462.pdf', '25602211.pdf', '158816848.pdf', '148674814.pdf', '157436961.pdf', '142630696.pdf', '4730981.pdf', '25602214.pdf', '141806096.pdf', '145644513.pdf', '0.pdf', '172027078.pdf', '155357953.pdf', '164244405.pdf', '136440095.pdf', '7361248.pdf', '135916783.pdf', '7024324.pdf', '7360989.pdf', '135916793.pdf', '137490237.pdf', '150105386.pdf', '154139927.pdf', '7159432.pdf', '7402084.pdf', '174757848.pdf', '156651938.pdf', '7349539.pdf', '4730988.pdf', '161894388.pdf', '156651920.pdf', '158084079.pdf', '143675994.pdf', '7436838.pdf', '7344621.pdf', '153529039.pdf', '7345052.pdf', '-2147483648.pdf', '7122668.pdf', '174253174.pdf', '161519090.pdf', '162389401.pdf', '143675996.pdf', '151649433.pdf', '25438018.pdf', '160484423.pdf', '136823881.pdf', '158084083.pdf', '17389579.pdf', '103128946.pdf', '150105383.pdf', '136440103.pdf', '144371363.pdf', '154860394.pdf', '175542989.pdf', '7357717.pdf', '161519089.pdf', '155357946.pdf', '143675995.pdf', '25432684.pdf', '158084080.pdf', '145644512.pdf', '142086090.pdf', '173603540.pdf', '4730968.pdf', '25602215.pdf', '160484414.pdf'}\n"
     ]
    }
   ],
   "source": [
    "import os\n",
    "import pandas as pd\n",
    "\n",
    "# Step 1: Read the CSV file to get the list of PDF names\n",
    "csv_file_path = 'MS_data.csv'  # Update this to the path of your CSV file\n",
    "pdf_names_df = pd.read_csv(csv_file_path)\n",
    "pdf_names_list = pdf_names_df['PDF Name'].tolist()\n",
    "\n",
    "# Step 2: List all PDF files in the subfolder\n",
    "pdf_folder_path = r'MS_PDF'  # Update this to your PDF subfolder path\n",
    "pdf_files_in_folder = os.listdir(pdf_folder_path)\n",
    "pdf_files_in_folder = [file for file in pdf_files_in_folder if file.endswith('.pdf')]\n",
    "\n",
    "# Convert PDF names from the CSV file to the format they would have as filenames\n",
    "pdf_names_in_csv_as_filenames = [f\"{name}.pdf\" for name in pdf_names_list]\n",
    "\n",
    "# Step 3: Find which PDF names from the CSV are not in the subfolder\n",
    "missing_pdfs = set(pdf_names_in_csv_as_filenames) - set(pdf_files_in_folder)\n",
    "# no_articel = ['208164836.pdf', '863644577.pdf', '875290475.pdf', '1469450887.pdf', '1284081143.pdf', '1323170747.pdf', '608664047.pdf', '752135443.pdf', '2131205256.pdf', '752135249.pdf', '1585013337.pdf']\n",
    "missing_pdfs = missing_pdfs\n",
    "print(len(missing_pdfs))\n",
    "print(\"PDF names from CSV not found in subfolder:\", missing_pdfs)\n"
   ]
  },
  {
   "cell_type": "code",
   "execution_count": 1,
   "metadata": {},
   "outputs": [
    {
     "name": "stdout",
     "output_type": "stream",
     "text": [
      "Deleted: retrieve (1).pdf\n",
      "Deleted: retrieve (10).pdf\n",
      "Deleted: retrieve (11).pdf\n",
      "Deleted: retrieve (2).pdf\n",
      "Deleted: retrieve (3).pdf\n",
      "Deleted: retrieve (4).pdf\n",
      "Deleted: retrieve (5).pdf\n",
      "Deleted: retrieve (6).pdf\n",
      "Deleted: retrieve (7).pdf\n",
      "Deleted: retrieve (8).pdf\n",
      "Deleted: retrieve (9).pdf\n",
      "Deleted: retrieve.pdf\n",
      "Deleted: rossi-chintagunta-2022-consumer-loyalty-programs-and-retail-prices-evidence-from-gasoline-markets.pdf\n",
      "Deleted: sanders-2023-dynamic-pricing-and-organic-waste-bans-a-study-of-grocery-retailers-incentives-to-reduce-food-waste.pdf\n"
     ]
    }
   ],
   "source": [
    "import os\n",
    "\n",
    "# Define the folder path where the PDF files are stored\n",
    "folder_path = r\"C:\\Users\\yitong\\Desktop\\Research-Assistant\\Scrape\\mksc\\mksc_pdf\"\n",
    "\n",
    "# Iterate over each file in the folder\n",
    "for file_name in os.listdir(folder_path):\n",
    "    # Check if the current file is a PDF\n",
    "    if file_name.endswith('.pdf'):\n",
    "        # Remove the file extension to check the name\n",
    "        name_without_extension = os.path.splitext(file_name)[0]\n",
    "        \n",
    "        # If the name is not purely numerical, delete the file\n",
    "        if not name_without_extension.isdigit():\n",
    "            os.remove(os.path.join(folder_path, file_name))\n",
    "            print(f\"Deleted: {file_name}\")\n"
   ]
  },
  {
   "cell_type": "code",
   "execution_count": 2,
   "metadata": {},
   "outputs": [
    {
     "name": "stdout",
     "output_type": "stream",
     "text": [
      "Duplicated rows removed and saved to 'your_cleaned_file.csv'.\n"
     ]
    }
   ],
   "source": [
    "import pandas as pd\n",
    "\n",
    "# Replace 'your_file.csv' with the path to your CSV file\n",
    "file_path = 'mksc_data.csv'\n",
    "\n",
    "# Read the CSV file into a DataFrame\n",
    "df = pd.read_csv(file_path)\n",
    "\n",
    "# Remove duplicate rows, keeping the first occurrence\n",
    "cleaned_df = df.drop_duplicates(keep='first')\n",
    "\n",
    "# Save the cleaned DataFrame back to a CSV file\n",
    "# Replace 'your_cleaned_file.csv' with the desired output file name\n",
    "cleaned_df.to_csv('your_cleaned_file.csv', index=False)\n",
    "\n",
    "print(\"Duplicated rows removed and saved to 'your_cleaned_file.csv'.\")\n"
   ]
  },
  {
   "cell_type": "code",
   "execution_count": null,
   "metadata": {},
   "outputs": [],
   "source": []
  }
 ],
 "metadata": {
  "kernelspec": {
   "display_name": "Python 3",
   "language": "python",
   "name": "python3"
  },
  "language_info": {
   "codemirror_mode": {
    "name": "ipython",
    "version": 3
   },
   "file_extension": ".py",
   "mimetype": "text/x-python",
   "name": "python",
   "nbconvert_exporter": "python",
   "pygments_lexer": "ipython3",
   "version": "3.12.1"
  }
 },
 "nbformat": 4,
 "nbformat_minor": 2
}
