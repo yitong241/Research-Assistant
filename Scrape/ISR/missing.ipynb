{
 "cells": [
  {
   "cell_type": "code",
   "execution_count": 27,
   "metadata": {},
   "outputs": [
    {
     "name": "stdout",
     "output_type": "stream",
     "text": [
      "0\n",
      "PDF names from CSV not found in subfolder: set()\n"
     ]
    }
   ],
   "source": [
    "import os\n",
    "import pandas as pd\n",
    "\n",
    "# Step 1: Read the CSV file to get the list of PDF names\n",
    "csv_file_path = 'ISR.csv'  # Update this to the path of your CSV file\n",
    "pdf_names_df = pd.read_csv(csv_file_path)\n",
    "pdf_names_list = pdf_names_df['PDF Name'].tolist()\n",
    "\n",
    "# Step 2: List all PDF files in the subfolder\n",
    "pdf_folder_path = r'PDF\\ISR'  # Update this to your PDF subfolder path\n",
    "pdf_files_in_folder = os.listdir(pdf_folder_path)\n",
    "pdf_files_in_folder = [file for file in pdf_files_in_folder if file.endswith('.pdf')]\n",
    "\n",
    "# Convert PDF names from the CSV file to the format they would have as filenames\n",
    "pdf_names_in_csv_as_filenames = [f\"{name}.pdf\" for name in pdf_names_list]\n",
    "\n",
    "# Step 3: Find which PDF names from the CSV are not in the subfolder\n",
    "missing_pdfs = set(pdf_names_in_csv_as_filenames) - set(pdf_files_in_folder)\n",
    "no_articel = ['208164836.pdf', '863644577.pdf', '875290475.pdf', '1469450887.pdf', '1284081143.pdf', '1323170747.pdf', '608664047.pdf', '752135443.pdf', '2131205256.pdf', '752135249.pdf', '1585013337.pdf']\n",
    "missing_pdfs = missing_pdfs - set(no_articel)\n",
    "print(len(missing_pdfs))\n",
    "print(\"PDF names from CSV not found in subfolder:\", missing_pdfs)\n"
   ]
  },
  {
   "cell_type": "code",
   "execution_count": 12,
   "metadata": {},
   "outputs": [
    {
     "name": "stdout",
     "output_type": "stream",
     "text": [
      "Deleted: Antecedents_of_IS_Strategic_Al (1).pdf\n",
      "Deleted: Antecedents_of_IS_Strategic_Al.pdf\n",
      "Deleted: Awareness_Displays_and_Social_.pdf\n",
      "Deleted: A_case_for_using_real_options_ (1).pdf\n",
      "Deleted: A_case_for_using_real_options_.pdf\n",
      "Deleted: A_Computational_Analysis_of_Li.pdf\n",
      "Deleted: Colonial_systems.pdf\n",
      "Deleted: Competition_Among_Sellers_in_O.pdf\n",
      "Deleted: Competition_Among_Virtual_Comm.pdf\n",
      "Deleted: Conceptualizing_Systems_for_Un.pdf\n",
      "Deleted: Control_of_Flexible_Software_D (1).pdf\n",
      "Deleted: Control_of_Flexible_Software_D.pdf\n",
      "Deleted: Credits.pdf\n",
      "Deleted: Depicting_the_use_and_purpose_.pdf\n",
      "Deleted: DSS_Effectiveness_in_Marketing.pdf\n",
      "Deleted: Editorial_Notes.pdf\n",
      "Deleted: Evaluating_the_impact_of_DSS,_.pdf\n",
      "Deleted: Examining_the_Relationship_Bet.pdf\n",
      "Deleted: Exploring_Agility_in_Distribut.pdf\n",
      "Deleted: How_do_we_understand_a_system_.pdf\n",
      "Deleted: Information_Systems_Research_S.pdf\n",
      "Deleted: Issues_and_Opinions_Publicati.pdf\n",
      "Deleted: Lying_on_the_Web_Implications.pdf\n",
      "Deleted: Managing_Piracy_Pricing_and_S.pdf\n",
      "Deleted: Predictors_of_Formal_Control_U.pdf\n",
      "Deleted: Replicating_online_Yankee_auct (1).pdf\n",
      "Deleted: Replicating_online_Yankee_auct.pdf\n",
      "Deleted: Research_report_Empirical_tes.pdf\n",
      "Deleted: Social_Capital_and_Knowledge_I (1).pdf\n",
      "Deleted: Social_Capital_and_Knowledge_I.pdf\n",
      "Deleted: Social_Interactions_and_the_D.pdf\n",
      "Deleted: Straight_talk_Delivering_bad_.pdf\n",
      "Deleted: Table_of_contents (1).pdf\n",
      "Deleted: Table_of_contents (2).pdf\n",
      "Deleted: Table_of_contents (3).pdf\n",
      "Deleted: Table_of_contents (4).pdf\n",
      "Deleted: Table_of_contents.pdf\n",
      "Deleted: The_Effects_of_Trust-Assuring_ (1).pdf\n",
      "Deleted: The_Effects_of_Trust-Assuring_.pdf\n",
      "Deleted: The_impact_of_e-commerce_annou.pdf\n",
      "Deleted: The_impact_of_experience_and_t.pdf\n",
      "Deleted: The_Nature_and_Role_of_Feedbac.pdf\n",
      "Deleted: Weighing_the_Benefits_and_Cost (1).pdf\n",
      "Deleted: Weighing_the_Benefits_and_Cost (2).pdf\n",
      "Deleted: Weighing_the_Benefits_and_Cost.pdf\n"
     ]
    }
   ],
   "source": [
    "import os\n",
    "\n",
    "# Define the folder path where the PDF files are stored\n",
    "folder_path = r\"C:\\Users\\yitong\\Desktop\\Research-Assistant\\Scrape\\PDF\"\n",
    "\n",
    "# Iterate over each file in the folder\n",
    "for file_name in os.listdir(folder_path):\n",
    "    # Check if the current file is a PDF\n",
    "    if file_name.endswith('.pdf'):\n",
    "        # Remove the file extension to check the name\n",
    "        name_without_extension = os.path.splitext(file_name)[0]\n",
    "        \n",
    "        # If the name is not purely numerical, delete the file\n",
    "        if not name_without_extension.isdigit():\n",
    "            os.remove(os.path.join(folder_path, file_name))\n",
    "            print(f\"Deleted: {file_name}\")\n"
   ]
  },
  {
   "cell_type": "code",
   "execution_count": 14,
   "metadata": {},
   "outputs": [
    {
     "name": "stdout",
     "output_type": "stream",
     "text": [
      "Duplicated rows removed and saved to 'your_cleaned_file.csv'.\n"
     ]
    }
   ],
   "source": [
    "import pandas as pd\n",
    "\n",
    "# Replace 'your_file.csv' with the path to your CSV file\n",
    "file_path = 'scrape_data.csv'\n",
    "\n",
    "# Read the CSV file into a DataFrame\n",
    "df = pd.read_csv(file_path)\n",
    "\n",
    "# Remove duplicate rows, keeping the first occurrence\n",
    "cleaned_df = df.drop_duplicates(keep='first')\n",
    "\n",
    "# Save the cleaned DataFrame back to a CSV file\n",
    "# Replace 'your_cleaned_file.csv' with the desired output file name\n",
    "cleaned_df.to_csv('your_cleaned_file.csv', index=False)\n",
    "\n",
    "print(\"Duplicated rows removed and saved to 'your_cleaned_file.csv'.\")\n"
   ]
  },
  {
   "cell_type": "code",
   "execution_count": null,
   "metadata": {},
   "outputs": [],
   "source": []
  }
 ],
 "metadata": {
  "kernelspec": {
   "display_name": "Python 3",
   "language": "python",
   "name": "python3"
  },
  "language_info": {
   "codemirror_mode": {
    "name": "ipython",
    "version": 3
   },
   "file_extension": ".py",
   "mimetype": "text/x-python",
   "name": "python",
   "nbconvert_exporter": "python",
   "pygments_lexer": "ipython3",
   "version": "3.12.1"
  }
 },
 "nbformat": 4,
 "nbformat_minor": 2
}
