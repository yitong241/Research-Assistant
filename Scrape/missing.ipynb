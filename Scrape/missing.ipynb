{
 "cells": [
  {
   "cell_type": "code",
   "execution_count": 6,
   "metadata": {},
   "outputs": [
    {
     "name": "stdout",
     "output_type": "stream",
     "text": [
      "9\n",
      "PDF names from CSV not found in subfolder: {'863644577.pdf', '875290475.pdf', '1469450887.pdf', '1284081143.pdf', '2260091433.pdf', '1323170747.pdf', '2131205256.pdf', '2260091620.pdf', '1585013337.pdf'}\n"
     ]
    }
   ],
   "source": [
    "import os\n",
    "import pandas as pd\n",
    "\n",
    "# Step 1: Read the CSV file to get the list of PDF names\n",
    "csv_file_path = 'scrape_data.csv'  # Update this to the path of your CSV file\n",
    "pdf_names_df = pd.read_csv(csv_file_path)\n",
    "pdf_names_list = pdf_names_df['PDF Name'].tolist()\n",
    "\n",
    "# Step 2: List all PDF files in the subfolder\n",
    "pdf_folder_path = 'PDF'  # Update this to your PDF subfolder path\n",
    "pdf_files_in_folder = os.listdir(pdf_folder_path)\n",
    "pdf_files_in_folder = [file for file in pdf_files_in_folder if file.endswith('.pdf')]\n",
    "\n",
    "# Convert PDF names from the CSV file to the format they would have as filenames\n",
    "pdf_names_in_csv_as_filenames = [f\"{name}.pdf\" for name in pdf_names_list]\n",
    "\n",
    "# Step 3: Find which PDF names from the CSV are not in the subfolder\n",
    "missing_pdfs = set(pdf_names_in_csv_as_filenames) - set(pdf_files_in_folder)\n",
    "\n",
    "print(len(missing_pdfs))\n",
    "print(\"PDF names from CSV not found in subfolder:\", missing_pdfs)\n"
   ]
  }
 ],
 "metadata": {
  "kernelspec": {
   "display_name": "Python 3",
   "language": "python",
   "name": "python3"
  },
  "language_info": {
   "codemirror_mode": {
    "name": "ipython",
    "version": 3
   },
   "file_extension": ".py",
   "mimetype": "text/x-python",
   "name": "python",
   "nbconvert_exporter": "python",
   "pygments_lexer": "ipython3",
   "version": "3.12.1"
  }
 },
 "nbformat": 4,
 "nbformat_minor": 2
}
